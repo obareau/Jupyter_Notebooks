{
  "nbformat": 4,
  "nbformat_minor": 0,
  "metadata": {
    "colab": {
      "name": "AI-benchmark.ipynb",
      "private_outputs": true,
      "provenance": [],
      "authorship_tag": "ABX9TyOQw1/cBgDDnaoDIz+xxXGm",
      "include_colab_link": true
    },
    "kernelspec": {
      "name": "python3",
      "display_name": "Python 3"
    },
    "language_info": {
      "name": "python"
    },
    "accelerator": "GPU"
  },
  "cells": [
    {
      "cell_type": "markdown",
      "metadata": {
        "id": "view-in-github",
        "colab_type": "text"
      },
      "source": [
        "<a href=\"https://colab.research.google.com/github/obareau/Jupyter_Notebooks/blob/main/AI_benchmark.ipynb\" target=\"_parent\"><img src=\"https://colab.research.google.com/assets/colab-badge.svg\" alt=\"Open In Colab\"/></a>"
      ]
    },
    {
      "cell_type": "code",
      "execution_count": null,
      "metadata": {
        "id": "dsqxsmod400W"
      },
      "outputs": [],
      "source": [
        "Ai Benchmark"
      ]
    },
    {
      "cell_type": "code",
      "source": [
        "pip install ai-benchmark"
      ],
      "metadata": {
        "id": "JFE8spuV4_ON"
      },
      "execution_count": null,
      "outputs": []
    },
    {
      "cell_type": "code",
      "source": [
        "from ai_benchmark import AIBenchmark\n",
        "benchmark = AIBenchmark()\n",
        "results = benchmark.run()"
      ],
      "metadata": {
        "id": "XqCZ65TN5HpE"
      },
      "execution_count": null,
      "outputs": []
    }
  ]
}